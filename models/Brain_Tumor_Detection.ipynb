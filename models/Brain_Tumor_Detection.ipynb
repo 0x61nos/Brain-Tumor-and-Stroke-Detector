{
  "cells": [
    {
      "cell_type": "code",
      "source": [
        "#@title # Dataset Settings\n",
        "\n",
        "#@markdown ## The avilable datasets are:\n",
        "#@markdown * [Br35H](https://www.kaggle.com/datasets/ahmedhamada0/brain-tumor-detection) - 1500 nig, 1500 pos.\n",
        "#@markdown * [huggingface](https://huggingface.co/datasets/PranomVignesh/MRI-Images-of-Brain-Tumor) - 1312 nig, 4057 pos.\n",
        "\n",
        "import subprocess, sys, os, shutil, re, random\n",
        "from os.path import exists\n",
        "from os import remove, mkdir\n",
        "from shutil import rmtree\n",
        "from datetime import datetime\n",
        "\n",
        "#@markdown The choosen dataset name (not case sensetive)\n",
        "DATASET = \"Br35H\" # @param [\"Br35H\", \"Huggingface\", \"afridirahman/brain-stroke-ct-image-dataset\"] {allow-input: true}\n",
        "#DATASET_DIR = \"dataset\" #@param {type:\"string\"}\n",
        "SAMPLES_LIMT = 690 # @param {type:\"slider\", min:50, max:5000, step:5}\n",
        "#@markdown If dataset is larger than the selected `SAMPLES_LIMIT` then split it and train the model on more then one step.\n",
        "SPLIT_DATASET = True #@param {type:\"boolean\"}\n",
        "# VALIDATION_PERSENTAGE = 0.17 #@param {type:\"slider\", min:0.1, max:0.7, step:0.01}\n",
        "TESTING_PERSENTAGE = 0.3 #@param {type:\"slider\", min:0.1, max:0.7, step:0.01}\n",
        "#@markdown Delete the old samples list from a previous run\n",
        "CLEAN_RUN = True #@param {type:\"boolean\"}\n",
        "AUGMENTED_TRAIN_SAMPLES = False #@param {type:\"boolean\"}\n",
        "AUGMENTED_TEST_SAMPLES = False #@param {type:\"boolean\"}\n",
        "\n",
        "_cwd = os.getcwd()\n",
        "os.path.expanduser(_cwd)\n",
        "env = os.environ.copy()\n",
        "env['HOME'] = _cwd\n",
        "\n",
        "# if exists(DATASET_DIR) and CLEAN_RUN:\n",
        "#   rmtree(DATASET_DIR)\n",
        "# if not exists(DATASET_DIR):\n",
        "#   mkdir(DATASET_DIR)\n",
        "\n",
        "if CLEAN_RUN:\n",
        "  SAMPLES = [[]]\n",
        "\n",
        "img_pattern = re.compile(r'\\.(png|jpg)$', re.IGNORECASE)\n",
        "\n",
        "def copy_samples(source_directory: str) -> list[str]:\n",
        "  # DIST_DIR = DATASET_DIR + \"/\" + dist\n",
        "  # if not exists(DIST_DIR):\n",
        "  #   os.mkdir(DIST_DIR)\n",
        "    files = [source_directory + \"/\" + file for file in os.listdir(source_directory) if img_pattern.search(file)]\n",
        "    return files\n",
        "    # for i, src_file in enumerate(files):\n",
        "    #   _, file_extension = os.path.splitext(src_file)\n",
        "    #   dist = f\"{DIST_DIR}/{DATASET}_{i}_{int(datetime.timestamp(datetime.now()))}{file_extension}\"\n",
        "    #   shutil.copy(os.path.join(source_directory, src_file), dist)\n",
        "\n",
        "\n",
        "def cmd(cmd: str, _capture=True, _cwd=_cwd, _env=env) -> str:\n",
        "  if _capture:\n",
        "    result = subprocess.run(cmd, shell=True, capture_output=True, cwd = _cwd, env=_env, text=True)\n",
        "  else:\n",
        "    result = subprocess.run(cmd, shell=True, cwd = _cwd, env=_env, text=True, stdout=subprocess.PIPE, stderr=subprocess.PIPE)\n",
        "  try:\n",
        "    result.check_returncode()\n",
        "    if _capture:\n",
        "      print(f\"{result.stdout}\")\n",
        "    return result.stdout\n",
        "\n",
        "  except subprocess.CalledProcessError:\n",
        "    print(f\"{result.stderr}\\n\", file=sys.stderr)\n",
        "    raise Exception(f\"Enconter an error while running `{cmd}`\")\n",
        "\n",
        "def download_kaggle_ds(target: str, ds: str):\n",
        "  ZIP_NAME = ds.split('/')[-1] + \".zip\"\n",
        "  print(ZIP_NAME)\n",
        "  if exists(target):\n",
        "        rmtree(target)\n",
        "  if not exists(ZIP_NAME):\n",
        "    if not exists(\"/content/.kaggle/kaggle.json\"):\n",
        "      print(\"Plese upload your kaggle API token.\\n\")\n",
        "      from google.colab import files\n",
        "      files.upload()\n",
        "      mkdir(\".kaggle\")\n",
        "      cmd(\"mv /content/kaggle.json .kaggle\")\n",
        "      cmd(\"chmod 600 .kaggle/kaggle.json\")\n",
        "    cmd(f\"kaggle datasets download -d {ds}\", False)\n",
        "  cmd(f\"unzip {ZIP_NAME} -d {target}\", False)\n",
        "\n",
        "def br35h():\n",
        "  DIR = \"br35h\"\n",
        "  download_kaggle_ds(DIR, \"ahmedhamada0/brain-tumor-detection\")\n",
        "  return (copy_samples(DIR + \"/\" + \"no\"),  copy_samples(DIR + \"/\" + \"yes\"))\n",
        "\n",
        "POSITIVE_SAMPLES = []\n",
        "NIGATIVE_SAMPLES = []\n",
        "\n",
        "match DATASET.lower():\n",
        "  case \"br35h\":\n",
        "    n, y = br35h()\n",
        "    NIGATIVE_SAMPLES.extend(n)\n",
        "    POSITIVE_SAMPLES.extend(y)\n",
        "\n",
        "  case \"huggingface\":\n",
        "    DIR = \"huggingface\"\n",
        "    if not exists(DIR):\n",
        "      cmd(f\"git clone --depth=1 https://huggingface.co/datasets/PranomVignesh/MRI-Images-of-Brain-Tumor.git {DIR}\")\n",
        "    DIR = f\"{DIR}/timri\"\n",
        "    for topdir in [\"test\", \"valid\", \"train\"]:\n",
        "      dir = f\"{DIR}/{topdir}\"\n",
        "      for ydir in [\"glioma\", \"meningioma\", \"pituitary\"]:\n",
        "        POSITIVE_SAMPLES.extend(copy_samples(f\"{dir}/{ydir}\"))\n",
        "      NIGATIVE_SAMPLES.extend(copy_samples(f\"{dir}/no-tumor\"))\n",
        "\n",
        "  case \"afridirahman/brain-stroke-ct-image-dataset\":\n",
        "    DIR = \"BS\"\n",
        "    download_kaggle_ds(DIR, \"afridirahman/brain-stroke-ct-image-dataset\")\n",
        "    cmd(f\"mv {DIR}/Brain_Data_Organised/* {DIR}\")\n",
        "    NIGATIVE_SAMPLES.extend(copy_samples(DIR + \"/\" + \"Normal\"))\n",
        "    POSITIVE_SAMPLES.extend(copy_samples(DIR + \"/\" + \"Stroke\"))\n",
        "\n",
        "  case _:\n",
        "    raise ValueError(\"The choosen database dosn't exist\")\n",
        "\n",
        "\n",
        "print(f\"Total pisitive samples: {len(POSITIVE_SAMPLES)}\")\n",
        "print(f\"Total nigative samples: {len(NIGATIVE_SAMPLES)}\")\n",
        "\n",
        "# Shuffle our data\n",
        "SAMPLES[0].extend([(path, 1) for path in POSITIVE_SAMPLES])\n",
        "SAMPLES[0].extend([(path, 0) for path in NIGATIVE_SAMPLES])\n",
        "random.shuffle(SAMPLES[0])\n",
        "\n",
        "# Split our samples or chrink them if needed\n",
        "def chunk_list(lst, chunk_size):\n",
        "    return [lst[i:i + chunk_size] for i in range(0, len(lst), chunk_size)]\n",
        "\n",
        "if len(SAMPLES[0]) > SAMPLES_LIMT:\n",
        "  if SPLIT_DATASET:\n",
        "    SAMPLES = chunk_list(SAMPLES[0], SAMPLES_LIMT)\n",
        "    print(f\"Samples has chanked into: {len(SAMPLES)} chunk\")\n",
        "  else:\n",
        "    SAMPLES[0] = SAMPLES[:SAMPLES_LIMT]\n"
      ],
      "metadata": {
        "colab": {
          "base_uri": "https://localhost:8080/",
          "height": 221
        },
        "id": "xwxdc_KOE1jD",
        "outputId": "f3977afe-887d-4a4c-bd21-41d3b37d621a"
      },
      "execution_count": null,
      "outputs": [
        {
          "output_type": "stream",
          "name": "stdout",
          "text": [
            "brain-tumor-detection.zip\n",
            "Plese upload your kaggle API token.\n",
            "\n"
          ]
        },
        {
          "output_type": "display_data",
          "data": {
            "text/plain": [
              "<IPython.core.display.HTML object>"
            ],
            "text/html": [
              "\n",
              "     <input type=\"file\" id=\"files-63e41ff5-7512-48df-b0b5-b720455df454\" name=\"files[]\" multiple disabled\n",
              "        style=\"border:none\" />\n",
              "     <output id=\"result-63e41ff5-7512-48df-b0b5-b720455df454\">\n",
              "      Upload widget is only available when the cell has been executed in the\n",
              "      current browser session. Please rerun this cell to enable.\n",
              "      </output>\n",
              "      <script>// Copyright 2017 Google LLC\n",
              "//\n",
              "// Licensed under the Apache License, Version 2.0 (the \"License\");\n",
              "// you may not use this file except in compliance with the License.\n",
              "// You may obtain a copy of the License at\n",
              "//\n",
              "//      http://www.apache.org/licenses/LICENSE-2.0\n",
              "//\n",
              "// Unless required by applicable law or agreed to in writing, software\n",
              "// distributed under the License is distributed on an \"AS IS\" BASIS,\n",
              "// WITHOUT WARRANTIES OR CONDITIONS OF ANY KIND, either express or implied.\n",
              "// See the License for the specific language governing permissions and\n",
              "// limitations under the License.\n",
              "\n",
              "/**\n",
              " * @fileoverview Helpers for google.colab Python module.\n",
              " */\n",
              "(function(scope) {\n",
              "function span(text, styleAttributes = {}) {\n",
              "  const element = document.createElement('span');\n",
              "  element.textContent = text;\n",
              "  for (const key of Object.keys(styleAttributes)) {\n",
              "    element.style[key] = styleAttributes[key];\n",
              "  }\n",
              "  return element;\n",
              "}\n",
              "\n",
              "// Max number of bytes which will be uploaded at a time.\n",
              "const MAX_PAYLOAD_SIZE = 100 * 1024;\n",
              "\n",
              "function _uploadFiles(inputId, outputId) {\n",
              "  const steps = uploadFilesStep(inputId, outputId);\n",
              "  const outputElement = document.getElementById(outputId);\n",
              "  // Cache steps on the outputElement to make it available for the next call\n",
              "  // to uploadFilesContinue from Python.\n",
              "  outputElement.steps = steps;\n",
              "\n",
              "  return _uploadFilesContinue(outputId);\n",
              "}\n",
              "\n",
              "// This is roughly an async generator (not supported in the browser yet),\n",
              "// where there are multiple asynchronous steps and the Python side is going\n",
              "// to poll for completion of each step.\n",
              "// This uses a Promise to block the python side on completion of each step,\n",
              "// then passes the result of the previous step as the input to the next step.\n",
              "function _uploadFilesContinue(outputId) {\n",
              "  const outputElement = document.getElementById(outputId);\n",
              "  const steps = outputElement.steps;\n",
              "\n",
              "  const next = steps.next(outputElement.lastPromiseValue);\n",
              "  return Promise.resolve(next.value.promise).then((value) => {\n",
              "    // Cache the last promise value to make it available to the next\n",
              "    // step of the generator.\n",
              "    outputElement.lastPromiseValue = value;\n",
              "    return next.value.response;\n",
              "  });\n",
              "}\n",
              "\n",
              "/**\n",
              " * Generator function which is called between each async step of the upload\n",
              " * process.\n",
              " * @param {string} inputId Element ID of the input file picker element.\n",
              " * @param {string} outputId Element ID of the output display.\n",
              " * @return {!Iterable<!Object>} Iterable of next steps.\n",
              " */\n",
              "function* uploadFilesStep(inputId, outputId) {\n",
              "  const inputElement = document.getElementById(inputId);\n",
              "  inputElement.disabled = false;\n",
              "\n",
              "  const outputElement = document.getElementById(outputId);\n",
              "  outputElement.innerHTML = '';\n",
              "\n",
              "  const pickedPromise = new Promise((resolve) => {\n",
              "    inputElement.addEventListener('change', (e) => {\n",
              "      resolve(e.target.files);\n",
              "    });\n",
              "  });\n",
              "\n",
              "  const cancel = document.createElement('button');\n",
              "  inputElement.parentElement.appendChild(cancel);\n",
              "  cancel.textContent = 'Cancel upload';\n",
              "  const cancelPromise = new Promise((resolve) => {\n",
              "    cancel.onclick = () => {\n",
              "      resolve(null);\n",
              "    };\n",
              "  });\n",
              "\n",
              "  // Wait for the user to pick the files.\n",
              "  const files = yield {\n",
              "    promise: Promise.race([pickedPromise, cancelPromise]),\n",
              "    response: {\n",
              "      action: 'starting',\n",
              "    }\n",
              "  };\n",
              "\n",
              "  cancel.remove();\n",
              "\n",
              "  // Disable the input element since further picks are not allowed.\n",
              "  inputElement.disabled = true;\n",
              "\n",
              "  if (!files) {\n",
              "    return {\n",
              "      response: {\n",
              "        action: 'complete',\n",
              "      }\n",
              "    };\n",
              "  }\n",
              "\n",
              "  for (const file of files) {\n",
              "    const li = document.createElement('li');\n",
              "    li.append(span(file.name, {fontWeight: 'bold'}));\n",
              "    li.append(span(\n",
              "        `(${file.type || 'n/a'}) - ${file.size} bytes, ` +\n",
              "        `last modified: ${\n",
              "            file.lastModifiedDate ? file.lastModifiedDate.toLocaleDateString() :\n",
              "                                    'n/a'} - `));\n",
              "    const percent = span('0% done');\n",
              "    li.appendChild(percent);\n",
              "\n",
              "    outputElement.appendChild(li);\n",
              "\n",
              "    const fileDataPromise = new Promise((resolve) => {\n",
              "      const reader = new FileReader();\n",
              "      reader.onload = (e) => {\n",
              "        resolve(e.target.result);\n",
              "      };\n",
              "      reader.readAsArrayBuffer(file);\n",
              "    });\n",
              "    // Wait for the data to be ready.\n",
              "    let fileData = yield {\n",
              "      promise: fileDataPromise,\n",
              "      response: {\n",
              "        action: 'continue',\n",
              "      }\n",
              "    };\n",
              "\n",
              "    // Use a chunked sending to avoid message size limits. See b/62115660.\n",
              "    let position = 0;\n",
              "    do {\n",
              "      const length = Math.min(fileData.byteLength - position, MAX_PAYLOAD_SIZE);\n",
              "      const chunk = new Uint8Array(fileData, position, length);\n",
              "      position += length;\n",
              "\n",
              "      const base64 = btoa(String.fromCharCode.apply(null, chunk));\n",
              "      yield {\n",
              "        response: {\n",
              "          action: 'append',\n",
              "          file: file.name,\n",
              "          data: base64,\n",
              "        },\n",
              "      };\n",
              "\n",
              "      let percentDone = fileData.byteLength === 0 ?\n",
              "          100 :\n",
              "          Math.round((position / fileData.byteLength) * 100);\n",
              "      percent.textContent = `${percentDone}% done`;\n",
              "\n",
              "    } while (position < fileData.byteLength);\n",
              "  }\n",
              "\n",
              "  // All done.\n",
              "  yield {\n",
              "    response: {\n",
              "      action: 'complete',\n",
              "    }\n",
              "  };\n",
              "}\n",
              "\n",
              "scope.google = scope.google || {};\n",
              "scope.google.colab = scope.google.colab || {};\n",
              "scope.google.colab._files = {\n",
              "  _uploadFiles,\n",
              "  _uploadFilesContinue,\n",
              "};\n",
              "})(self);\n",
              "</script> "
            ]
          },
          "metadata": {}
        },
        {
          "output_type": "stream",
          "name": "stdout",
          "text": [
            "Saving kaggle.json to kaggle.json\n",
            "\n",
            "\n",
            "Total pisitive samples: 1500\n",
            "Total nigative samples: 1500\n",
            "Samples has chanked into: 5 chunk\n"
          ]
        }
      ]
    },
    {
      "cell_type": "markdown",
      "metadata": {
        "id": "fmnhwZy1UOi1"
      },
      "source": [
        "## Import Necessary Modules"
      ]
    },
    {
      "cell_type": "code",
      "execution_count": null,
      "metadata": {
        "id": "xS99NGTOUOi2"
      },
      "outputs": [],
      "source": [
        "import tensorflow as tf\n",
        "from sklearn.utils import shuffle\n",
        "import cv2\n",
        "import imutils\n",
        "import numpy as np\n",
        "import matplotlib.pyplot as plt\n",
        "import time\n",
        "from os import listdir\n",
        "\n",
        "%matplotlib inline"
      ]
    },
    {
      "cell_type": "markdown",
      "metadata": {
        "id": "j8t4MAVoUOi2"
      },
      "source": [
        "## Data Preparation & Preprocessing"
      ]
    },
    {
      "cell_type": "code",
      "execution_count": null,
      "metadata": {
        "id": "fM5ULE98UOi3"
      },
      "outputs": [],
      "source": [
        "#@title Edges Crop\n",
        "#@markdown In order to crop the part that contains only the brain of the image,\n",
        "#@markdown We used a cropping technique to find the extreme top, bottom, left and right points\n",
        "#@markdown of the brain. You can read more about it here [Finding extreme points in contours with OpenCV](https://www.pyimagesearch.com/2016/04/11/finding-extreme-points-in-contours-with-opencv/).\n",
        "\n",
        "def crop_brain_contour(image, plot=False):\n",
        "    # Convert the image to grayscale, and blur it slightly\n",
        "    gray = cv2.cvtColor(image, cv2.COLOR_BGR2GRAY)\n",
        "    gray = cv2.GaussianBlur(gray, (5, 5), 0)\n",
        "\n",
        "    # Threshold the image, then perform a series of erosions +\n",
        "    # dilations to remove any small regions of noise\n",
        "    thresh = cv2.threshold(gray, 45, 255, cv2.THRESH_BINARY)[1]\n",
        "    thresh = cv2.erode(thresh, None, iterations=2)\n",
        "    thresh = cv2.dilate(thresh, None, iterations=2)\n",
        "\n",
        "    # Find contours in thresholded image, then grab the largest one\n",
        "    cnts = cv2.findContours(thresh.copy(), cv2.RETR_EXTERNAL, cv2.CHAIN_APPROX_SIMPLE)\n",
        "    cnts = imutils.grab_contours(cnts)\n",
        "    c = max(cnts, key=cv2.contourArea)\n",
        "\n",
        "\n",
        "    # Find the extreme points\n",
        "    extLeft = tuple(c[c[:, :, 0].argmin()][0])\n",
        "    extRight = tuple(c[c[:, :, 0].argmax()][0])\n",
        "    extTop = tuple(c[c[:, :, 1].argmin()][0])\n",
        "    extBot = tuple(c[c[:, :, 1].argmax()][0])\n",
        "\n",
        "    # crop new image out of the original image using the four extreme points (left, right, top, bottom)\n",
        "    new_image = image[extTop[1]:extBot[1], extLeft[0]:extRight[0]]\n",
        "\n",
        "    if plot:\n",
        "        plt.figure()\n",
        "\n",
        "        plt.subplot(1, 2, 1)\n",
        "        plt.imshow(image)\n",
        "\n",
        "        plt.tick_params(axis='both', which='both',\n",
        "                        top=False, bottom=False, left=False, right=False,\n",
        "                        labelbottom=False, labeltop=False, labelleft=False, labelright=False)\n",
        "\n",
        "        plt.title('Original Image')\n",
        "\n",
        "        plt.subplot(1, 2, 2)\n",
        "        plt.imshow(new_image)\n",
        "\n",
        "        plt.tick_params(axis='both', which='both',\n",
        "                        top=False, bottom=False, left=False, right=False,\n",
        "                        labelbottom=False, labeltop=False, labelleft=False, labelright=False)\n",
        "\n",
        "        plt.title('Cropped Image')\n",
        "\n",
        "        plt.show()\n",
        "\n",
        "    return new_image"
      ]
    },
    {
      "cell_type": "markdown",
      "metadata": {
        "id": "m283uH9JUOi6"
      },
      "source": [
        "### Load up the data:"
      ]
    },
    {
      "cell_type": "markdown",
      "metadata": {
        "id": "i29zaIpxUOi6"
      },
      "source": [
        "The following function takes two arguments, the first one is a list of directory paths for the folders 'yes' and 'no' that contain the image data and the second argument is the image size, and for every image in both directories and does the following:\n",
        "1. Read the image.\n",
        "2. Crop the part of the image representing only the brain.\n",
        "3. Resize the image (because the images in the dataset come in different sizes (meaning width, height and # of channels). So, we want all of our images to be (240, 240, 3) to feed it as an input to the neural network.\n",
        "4. Apply normalization because we want pixel values to be scaled to the range 0-1.\n",
        "5. Append the image to <i>X</i> and its label to <i>y</i>.<br>\n",
        "\n",
        "After that, Shuffle <i>X</i> and <i>y</i>, because the data is ordered (meaning the arrays contains the first part belonging to one class and the second part belonging to the other class, and we don't want that).<br>\n",
        "Finally, Return <i>X</i> and <i>y</i>."
      ]
    },
    {
      "cell_type": "code",
      "execution_count": null,
      "metadata": {
        "id": "duQ-YX5UUOi6"
      },
      "outputs": [],
      "source": [
        "#@title Prepare images and resize them\n",
        "\n",
        "WIDTH = 340 #@param {type:\"number\"}\n",
        "HEIGHT = 340 #@param {type:\"number\"}\n",
        "\n",
        "\n",
        "def load_data(sampels_list):\n",
        "    \"\"\"\n",
        "    Returns:\n",
        "        X: A numpy array with shape = (#_examples, image_width, image_height, #_channels)\n",
        "        y: A numpy array with shape = (#_examples, 1)\n",
        "    \"\"\"\n",
        "    x = []\n",
        "    y = []\n",
        "    for filename, y_val in sampels_list:\n",
        "        #print(f\"file: {filename}\")\n",
        "        # load the image\n",
        "        image = cv2.imread(filename)\n",
        "        #print(f\"Cropping {image}\")\n",
        "        # crop the brain and ignore the unnecessary rest part of the image\n",
        "        image = crop_brain_contour(image, plot=False)\n",
        "        # resize image\n",
        "        image = cv2.resize(image, dsize=(WIDTH, HEIGHT), interpolation=cv2.INTER_CUBIC)\n",
        "        # normalize values\n",
        "        image = image / 255.\n",
        "        # convert image to numpy array and append it to X\n",
        "        x.append(image)\n",
        "        y.append([y_val])\n",
        "\n",
        "    x = np.array(x)\n",
        "    y = np.array(y)\n",
        "\n",
        "    # Shuffle the data\n",
        "    # x, y = shuffle(X, y)\n",
        "    return x, y\n",
        "\n",
        "\n",
        "def plot_sample_images(X, y, n=50):\n",
        "    \"\"\"\n",
        "    Plots n sample images for both values of y (labels).\n",
        "    Arguments:\n",
        "        X: A numpy array with shape = (#_examples, image_width, image_height, #_channels)\n",
        "        y: A numpy array with shape = (#_examples, 1)\n",
        "    \"\"\"\n",
        "\n",
        "    for label in [0,1]:\n",
        "        # grab the first n images with the corresponding y values equal to label\n",
        "        images = X[np.argwhere(y == label)]\n",
        "        n_images = images[:n]\n",
        "\n",
        "        columns_n = 10\n",
        "        rows_n = int(n/ columns_n)\n",
        "\n",
        "        plt.figure(figsize=(20, 10))\n",
        "\n",
        "        i = 1 # current plot\n",
        "        for image in n_images:\n",
        "            plt.subplot(rows_n, columns_n, i)\n",
        "            plt.imshow(image[0])\n",
        "\n",
        "            # remove ticks\n",
        "            plt.tick_params(axis='both', which='both',\n",
        "                            top=False, bottom=False, left=False, right=False,\n",
        "                           labelbottom=False, labeltop=False, labelleft=False, labelright=False)\n",
        "\n",
        "            i += 1\n",
        "\n",
        "        label_to_str = lambda label: \"Yes\" if label == 1 else \"No\"\n",
        "        plt.suptitle(f\"Brain Tumor: {label_to_str(label)}\")\n",
        "        plt.show()\n"
      ]
    },
    {
      "cell_type": "markdown",
      "metadata": {
        "id": "kuDqMjOiUOi7"
      },
      "source": [
        "Load up the data that we augmented earlier in the Data Augmentation notebook.<br>\n",
        "**Note:** the augmented data directory contains not only the new generated images but also the original images."
      ]
    },
    {
      "cell_type": "code",
      "execution_count": null,
      "metadata": {
        "colab": {
          "base_uri": "https://localhost:8080/"
        },
        "id": "zXl4MRAdUOjA",
        "outputId": "3d21cac7-6c13-4456-a1e1-653b79a8e506"
      },
      "outputs": [
        {
          "output_type": "stream",
          "name": "stdout",
          "text": [
            "Model: \"BrainDetectionModel\"\n",
            "_________________________________________________________________\n",
            " Layer (type)                Output Shape              Param #   \n",
            "=================================================================\n",
            " input_1 (InputLayer)        [(None, 340, 340, 3)]     0         \n",
            "                                                                 \n",
            " zero_padding2d (ZeroPaddin  (None, 344, 344, 3)       0         \n",
            " g2D)                                                            \n",
            "                                                                 \n",
            " conv0 (Conv2D)              (None, 338, 338, 32)      4736      \n",
            "                                                                 \n",
            " bn0 (BatchNormalization)    (None, 338, 338, 32)      128       \n",
            "                                                                 \n",
            " activation (Activation)     (None, 338, 338, 32)      0         \n",
            "                                                                 \n",
            " max_pool0 (MaxPooling2D)    (None, 84, 84, 32)        0         \n",
            "                                                                 \n",
            " max_pool1 (MaxPooling2D)    (None, 21, 21, 32)        0         \n",
            "                                                                 \n",
            " flatten (Flatten)           (None, 14112)             0         \n",
            "                                                                 \n",
            " fc (Dense)                  (None, 1)                 14113     \n",
            "                                                                 \n",
            "=================================================================\n",
            "Total params: 18977 (74.13 KB)\n",
            "Trainable params: 18913 (73.88 KB)\n",
            "Non-trainable params: 64 (256.00 Byte)\n",
            "_________________________________________________________________\n",
            "Model compiling...\n"
          ]
        }
      ],
      "source": [
        "#@title Build the model\n",
        "\n",
        "from tensorflow.keras.layers import Conv2D, Input, ZeroPadding2D, BatchNormalization, Activation, MaxPooling2D, Flatten, Dense\n",
        "from tensorflow.keras.models import Model, load_model\n",
        "from tensorflow.keras.optimizers import Adam, AdamW\n",
        "from tensorflow.keras.optimizers.experimental import Adagrad, Nadam, RMSprop, SGD, Adamax\n",
        "from tensorflow.keras.callbacks import TensorBoard, ModelCheckpoint, ReduceLROnPlateau\n",
        "\n",
        "#@markdown Please refer to: https://www.tensorflow.org/api_docs/python/tf/keras/optimizers\n",
        "OPTIMIZER = \"AdamW\" #@param [\"Adam\", \"AdamW\", \"Adagrad\", \"Nadam\", \"RMSprop\", \"SGD\", \"Adamax\"] {type:\"string\", allow-input: true}\n",
        "#@markdown AdamW's default learning rate is often 0.001, but in practice, values between 0.0001 and 0.01 are commonly used.\n",
        "LEARNING_RATE = 0.0001 #@param {type:\"number\"}\n",
        "DECAY = True #@param {type:\"boolean\"}\n",
        "WEIGTH_DECAY = 0.01 #@param {type:\"number\"}\n",
        "\n",
        "match OPTIMIZER:\n",
        "  case \"Adam\":\n",
        "    OPTIMIZER = Adam(learning_rate=LEARNING_RATE)\n",
        "  case \"Adagrad\":\n",
        "      OPTIMIZER = Adagrad(learning_rate=LEARNING_RATE)\n",
        "  case \"AdamW\":\n",
        "      OPTIMIZER = AdamW(learning_rate=LEARNING_RATE)\n",
        "  case \"Nadam\":\n",
        "      OPTIMIZER = Nadam(learning_rate=LEARNING_RATE)\n",
        "  case \"RMSprop\":\n",
        "      OPTIMIZER = RMSprop(learning_rate=LEARNING_RATE)\n",
        "  case \"SGD\":\n",
        "      OPTIMIZER = SGD(learning_rate=LEARNING_RATE)\n",
        "  case \"Adamax\":\n",
        "      OPTIMIZER = Adamax(learning_rate=LEARNING_RATE)\n",
        "  case _:\n",
        "    raise ValueError(\"The choosen optimizer dosn't exist\")\n",
        "\n",
        "if DECAY:\n",
        "  OPTIMIZER.weight_decay = WEIGTH_DECAY\n",
        "\n",
        "# reduce_lr = ReduceLROnPlateau(monitor='val_accuracy', factor=0.01, patience=2, min_lr=1e-6)\n",
        "\n",
        "def build_model(input_shape):\n",
        "    \"\"\"\n",
        "    Arugments:\n",
        "        input_shape: A tuple representing the shape of the input of the model. shape=(image_width, image_height, #_channels)\n",
        "    Returns:\n",
        "        model: A Model object.\n",
        "    \"\"\"\n",
        "    # Define the input placeholder as a tensor with shape input_shape.\n",
        "    X_input = Input(input_shape)\n",
        "\n",
        "    # Zero-Padding: pads the border of X_input with zeroes\n",
        "    X = ZeroPadding2D((2, 2))(X_input) # shape=(?, 244, 244, 3)\n",
        "\n",
        "    # CONV -> BN -> RELU Block applied to X\n",
        "    X = Conv2D(32, (7, 7), strides = (1, 1), name = 'conv0')(X)\n",
        "    X = BatchNormalization(axis = 3, name = 'bn0')(X)\n",
        "    X = Activation('relu')(X) # shape=(?, 238, 238, 32)\n",
        "\n",
        "    # MAXPOOL\n",
        "    X = MaxPooling2D((4, 4), name='max_pool0')(X) # shape=(?, 59, 59, 32)\n",
        "\n",
        "    # MAXPOOL\n",
        "    X = MaxPooling2D((4, 4), name='max_pool1')(X) # shape=(?, 14, 14, 32)\n",
        "\n",
        "    # FLATTEN X\n",
        "    X = Flatten()(X) # shape=(?, 6272)\n",
        "    # FULLYCONNECTED\n",
        "    X = Dense(1, activation='sigmoid', name='fc')(X) # shape=(?, 1)\n",
        "\n",
        "    # Create model. This creates your Keras model instance, you'll use this instance to train/test the model.\n",
        "    model = Model(inputs = X_input, outputs = X, name='BrainDetectionModel')\n",
        "\n",
        "    return model\n",
        "\n",
        "IMG_SHAPE = (WIDTH, HEIGHT, 3)\n",
        "model = build_model(IMG_SHAPE)\n",
        "model.summary()\n",
        "\n",
        "print(\"Model compiling...\")\n",
        "model.compile(optimizer=OPTIMIZER, loss='binary_crossentropy', metrics=['accuracy'])\n",
        "\n",
        "# tensorboard\n",
        "log_file_name = f'brain_tumor_detection_cnn_{int(time.time())}'\n",
        "tensorboard = TensorBoard(log_dir=f'logs/{log_file_name}')\n",
        "\n",
        "# checkpoint\n",
        "# unique file name that will include the epoch and the validation (development) accuracy\n",
        "filepath=\"cnn-parameters-improvement-{epoch:02d}\"\n",
        "# save the model with the best validation (development) accuracy till now\n",
        "checkpoint = ModelCheckpoint(\"models/{}.model\".format(filepath, monitor='val_acc', verbose=1, save_best_only=True, mode='max'))"
      ]
    },
    {
      "cell_type": "code",
      "execution_count": null,
      "metadata": {
        "scrolled": false,
        "colab": {
          "base_uri": "https://localhost:8080/"
        },
        "id": "Id4qkujtUOjC",
        "outputId": "99990a06-87a1-4c22-a741-4d07a4597e88"
      },
      "outputs": [
        {
          "output_type": "stream",
          "name": "stdout",
          "text": [
            "Chunk 0:\n",
            "\t x shape: (690, 340, 340, 3), y shape: (690, 1)\n",
            "\t Split the chunk into:\n",
            "\t\t Number of training examples: 483\n",
            "\t\t Number of test examples: 207\n",
            "\t\t x_train shape: (483, 340, 340, 3)\n",
            "\t\t y_train shape: (483, 1)\n",
            ">>> Traning on chanck 0 starts\n",
            "Epoch 1/32\n",
            "8/8 [==============================] - 12s 731ms/step - loss: 1.1363 - accuracy: 0.5321 - val_loss: 0.6949 - val_accuracy: 0.5362\n",
            "Epoch 2/32\n",
            "8/8 [==============================] - 3s 373ms/step - loss: 0.7473 - accuracy: 0.5590 - val_loss: 0.6909 - val_accuracy: 0.5507\n",
            "Epoch 3/32\n",
            "8/8 [==============================] - 3s 401ms/step - loss: 0.6738 - accuracy: 0.6025 - val_loss: 0.6856 - val_accuracy: 0.5700\n",
            "Epoch 4/32\n",
            "8/8 [==============================] - 4s 487ms/step - loss: 0.6026 - accuracy: 0.6563 - val_loss: 0.6799 - val_accuracy: 0.5990\n",
            "Epoch 5/32\n",
            "8/8 [==============================] - 4s 539ms/step - loss: 0.5697 - accuracy: 0.6957 - val_loss: 0.6792 - val_accuracy: 0.5652\n",
            "Epoch 6/32\n",
            "8/8 [==============================] - 4s 530ms/step - loss: 0.5557 - accuracy: 0.6977 - val_loss: 0.6755 - val_accuracy: 0.5845\n",
            "Epoch 7/32\n",
            "8/8 [==============================] - 3s 376ms/step - loss: 0.5205 - accuracy: 0.7288 - val_loss: 0.6728 - val_accuracy: 0.5845\n",
            "Epoch 8/32\n",
            "8/8 [==============================] - 2s 326ms/step - loss: 0.4970 - accuracy: 0.7557 - val_loss: 0.6650 - val_accuracy: 0.6280\n",
            "Epoch 9/32\n",
            "8/8 [==============================] - 3s 372ms/step - loss: 0.4855 - accuracy: 0.7495 - val_loss: 0.6682 - val_accuracy: 0.5845\n",
            "Epoch 10/32\n",
            "8/8 [==============================] - 3s 383ms/step - loss: 0.4831 - accuracy: 0.7598 - val_loss: 0.6579 - val_accuracy: 0.6425\n",
            "Epoch 11/32\n",
            "8/8 [==============================] - 3s 382ms/step - loss: 0.4557 - accuracy: 0.7909 - val_loss: 0.6520 - val_accuracy: 0.6618\n",
            "Epoch 12/32\n",
            "8/8 [==============================] - 3s 331ms/step - loss: 0.4261 - accuracy: 0.8199 - val_loss: 0.6548 - val_accuracy: 0.6232\n",
            "Epoch 13/32\n",
            "8/8 [==============================] - 3s 334ms/step - loss: 0.4025 - accuracy: 0.8468 - val_loss: 0.6440 - val_accuracy: 0.6763\n",
            "Epoch 14/32\n",
            "8/8 [==============================] - 3s 334ms/step - loss: 0.4169 - accuracy: 0.8261 - val_loss: 0.6421 - val_accuracy: 0.6715\n",
            "Epoch 15/32\n",
            "8/8 [==============================] - 3s 387ms/step - loss: 0.3993 - accuracy: 0.8178 - val_loss: 0.6461 - val_accuracy: 0.6135\n",
            "Epoch 16/32\n",
            "8/8 [==============================] - 2s 328ms/step - loss: 0.3647 - accuracy: 0.8634 - val_loss: 0.6337 - val_accuracy: 0.6570\n",
            "Epoch 17/32\n",
            "8/8 [==============================] - 3s 373ms/step - loss: 0.3509 - accuracy: 0.8820 - val_loss: 0.6339 - val_accuracy: 0.6377\n",
            "Epoch 18/32\n",
            "8/8 [==============================] - 3s 331ms/step - loss: 0.3411 - accuracy: 0.8903 - val_loss: 0.6275 - val_accuracy: 0.6280\n",
            "Epoch 19/32\n",
            "8/8 [==============================] - 3s 380ms/step - loss: 0.3324 - accuracy: 0.8861 - val_loss: 0.6347 - val_accuracy: 0.6184\n",
            "Epoch 20/32\n",
            "8/8 [==============================] - 3s 344ms/step - loss: 0.3245 - accuracy: 0.8799 - val_loss: 0.6085 - val_accuracy: 0.7053\n",
            "Epoch 21/32\n",
            "8/8 [==============================] - 3s 369ms/step - loss: 0.3260 - accuracy: 0.8737 - val_loss: 0.6231 - val_accuracy: 0.6184\n",
            "Epoch 22/32\n",
            "8/8 [==============================] - 3s 375ms/step - loss: 0.3150 - accuracy: 0.8841 - val_loss: 0.6240 - val_accuracy: 0.6039\n",
            "Epoch 23/32\n",
            "8/8 [==============================] - 3s 368ms/step - loss: 0.3157 - accuracy: 0.8820 - val_loss: 0.5963 - val_accuracy: 0.7005\n",
            "Epoch 24/32\n",
            "8/8 [==============================] - 3s 380ms/step - loss: 0.3021 - accuracy: 0.9027 - val_loss: 0.6127 - val_accuracy: 0.6232\n",
            "Epoch 25/32\n",
            "8/8 [==============================] - 3s 417ms/step - loss: 0.2846 - accuracy: 0.9130 - val_loss: 0.6038 - val_accuracy: 0.6377\n",
            "Epoch 26/32\n",
            "8/8 [==============================] - 3s 331ms/step - loss: 0.2806 - accuracy: 0.9151 - val_loss: 0.5922 - val_accuracy: 0.6763\n",
            "Epoch 27/32\n",
            "8/8 [==============================] - 3s 330ms/step - loss: 0.2731 - accuracy: 0.9172 - val_loss: 0.6130 - val_accuracy: 0.6135\n",
            "Epoch 28/32\n",
            "8/8 [==============================] - 3s 392ms/step - loss: 0.2694 - accuracy: 0.9234 - val_loss: 0.6018 - val_accuracy: 0.6280\n",
            "Epoch 29/32\n",
            "8/8 [==============================] - 3s 332ms/step - loss: 0.2690 - accuracy: 0.9151 - val_loss: 0.5790 - val_accuracy: 0.7053\n",
            "Epoch 30/32\n",
            "8/8 [==============================] - 3s 375ms/step - loss: 0.2620 - accuracy: 0.9172 - val_loss: 0.5833 - val_accuracy: 0.6908\n",
            "Epoch 31/32\n",
            "8/8 [==============================] - 2s 327ms/step - loss: 0.2560 - accuracy: 0.9275 - val_loss: 0.5992 - val_accuracy: 0.6329\n",
            "Epoch 32/32\n",
            "8/8 [==============================] - 3s 376ms/step - loss: 0.2403 - accuracy: 0.9462 - val_loss: 0.5769 - val_accuracy: 0.6812\n",
            "Elapsed time: 0:2:26.0\n",
            "Chunk 1:\n",
            "\t x shape: (690, 340, 340, 3), y shape: (690, 1)\n",
            "\t Split the chunk into:\n",
            "\t\t Number of training examples: 483\n",
            "\t\t Number of test examples: 207\n",
            "\t\t x_train shape: (483, 340, 340, 3)\n",
            "\t\t y_train shape: (483, 1)\n",
            ">>> Traning on chanck 1 starts\n",
            "Epoch 1/32\n",
            "8/8 [==============================] - 4s 546ms/step - loss: 0.3875 - accuracy: 0.8385 - val_loss: 0.6005 - val_accuracy: 0.6618\n",
            "Epoch 2/32\n",
            "8/8 [==============================] - 3s 422ms/step - loss: 0.3675 - accuracy: 0.8302 - val_loss: 0.6722 - val_accuracy: 0.5797\n",
            "Epoch 3/32\n",
            "8/8 [==============================] - 3s 332ms/step - loss: 0.3686 - accuracy: 0.8592 - val_loss: 0.5762 - val_accuracy: 0.7005\n",
            "Epoch 4/32\n",
            "8/8 [==============================] - 3s 374ms/step - loss: 0.3384 - accuracy: 0.8489 - val_loss: 0.5691 - val_accuracy: 0.7053\n",
            "Epoch 5/32\n",
            "8/8 [==============================] - 3s 331ms/step - loss: 0.3140 - accuracy: 0.8841 - val_loss: 0.6391 - val_accuracy: 0.6087\n",
            "Epoch 6/32\n",
            "8/8 [==============================] - 3s 347ms/step - loss: 0.3043 - accuracy: 0.8944 - val_loss: 0.5863 - val_accuracy: 0.7005\n",
            "Epoch 7/32\n",
            "8/8 [==============================] - 3s 402ms/step - loss: 0.3016 - accuracy: 0.8923 - val_loss: 0.5357 - val_accuracy: 0.7391\n",
            "Epoch 8/32\n",
            "8/8 [==============================] - 3s 333ms/step - loss: 0.2924 - accuracy: 0.8820 - val_loss: 0.5627 - val_accuracy: 0.7101\n",
            "Epoch 9/32\n",
            "8/8 [==============================] - 3s 379ms/step - loss: 0.2719 - accuracy: 0.9130 - val_loss: 0.6273 - val_accuracy: 0.6618\n",
            "Epoch 10/32\n",
            "8/8 [==============================] - 3s 331ms/step - loss: 0.2608 - accuracy: 0.9130 - val_loss: 0.6613 - val_accuracy: 0.6184\n",
            "Epoch 11/32\n",
            "8/8 [==============================] - 3s 415ms/step - loss: 0.2756 - accuracy: 0.8923 - val_loss: 0.5263 - val_accuracy: 0.7391\n",
            "Epoch 12/32\n",
            "8/8 [==============================] - 3s 332ms/step - loss: 0.2482 - accuracy: 0.9213 - val_loss: 0.5967 - val_accuracy: 0.6812\n",
            "Epoch 13/32\n",
            "8/8 [==============================] - 2s 329ms/step - loss: 0.2303 - accuracy: 0.9337 - val_loss: 0.6583 - val_accuracy: 0.6425\n",
            "Epoch 14/32\n",
            "8/8 [==============================] - 3s 372ms/step - loss: 0.2276 - accuracy: 0.9296 - val_loss: 0.5110 - val_accuracy: 0.7295\n",
            "Epoch 15/32\n",
            "8/8 [==============================] - 3s 356ms/step - loss: 0.2553 - accuracy: 0.9172 - val_loss: 0.6322 - val_accuracy: 0.6667\n",
            "Epoch 16/32\n",
            "8/8 [==============================] - 3s 396ms/step - loss: 0.2203 - accuracy: 0.9317 - val_loss: 0.6867 - val_accuracy: 0.6377\n",
            "Epoch 17/32\n",
            "8/8 [==============================] - 3s 387ms/step - loss: 0.2169 - accuracy: 0.9337 - val_loss: 0.5234 - val_accuracy: 0.7343\n",
            "Epoch 18/32\n",
            "8/8 [==============================] - 3s 376ms/step - loss: 0.1969 - accuracy: 0.9462 - val_loss: 0.7202 - val_accuracy: 0.6377\n",
            "Epoch 19/32\n",
            "8/8 [==============================] - 3s 375ms/step - loss: 0.1937 - accuracy: 0.9524 - val_loss: 0.5522 - val_accuracy: 0.7198\n",
            "Epoch 20/32\n",
            "8/8 [==============================] - 3s 395ms/step - loss: 0.1894 - accuracy: 0.9441 - val_loss: 0.6090 - val_accuracy: 0.6763\n",
            "Epoch 21/32\n",
            "8/8 [==============================] - 3s 394ms/step - loss: 0.1836 - accuracy: 0.9545 - val_loss: 0.5973 - val_accuracy: 0.6860\n",
            "Epoch 22/32\n",
            "8/8 [==============================] - 3s 335ms/step - loss: 0.1832 - accuracy: 0.9627 - val_loss: 0.6546 - val_accuracy: 0.6667\n",
            "Epoch 23/32\n",
            "8/8 [==============================] - 2s 328ms/step - loss: 0.1781 - accuracy: 0.9586 - val_loss: 0.5993 - val_accuracy: 0.6908\n",
            "Epoch 24/32\n",
            "8/8 [==============================] - 3s 396ms/step - loss: 0.1749 - accuracy: 0.9627 - val_loss: 0.5944 - val_accuracy: 0.6957\n",
            "Epoch 25/32\n",
            "8/8 [==============================] - 3s 334ms/step - loss: 0.1689 - accuracy: 0.9586 - val_loss: 0.5248 - val_accuracy: 0.7343\n",
            "Epoch 26/32\n",
            "8/8 [==============================] - 3s 376ms/step - loss: 0.1695 - accuracy: 0.9586 - val_loss: 0.6569 - val_accuracy: 0.6715\n",
            "Epoch 27/32\n",
            "8/8 [==============================] - 3s 372ms/step - loss: 0.1616 - accuracy: 0.9731 - val_loss: 0.5676 - val_accuracy: 0.7198\n",
            "Epoch 28/32\n",
            "8/8 [==============================] - 3s 361ms/step - loss: 0.1542 - accuracy: 0.9689 - val_loss: 0.5868 - val_accuracy: 0.7053\n",
            "Epoch 29/32\n",
            "8/8 [==============================] - 3s 355ms/step - loss: 0.1563 - accuracy: 0.9669 - val_loss: 0.4894 - val_accuracy: 0.7633\n",
            "Epoch 30/32\n",
            "8/8 [==============================] - 3s 330ms/step - loss: 0.1508 - accuracy: 0.9689 - val_loss: 0.5603 - val_accuracy: 0.7343\n",
            "Epoch 31/32\n",
            "8/8 [==============================] - 3s 378ms/step - loss: 0.1470 - accuracy: 0.9731 - val_loss: 0.5710 - val_accuracy: 0.7295\n",
            "Epoch 32/32\n",
            "8/8 [==============================] - 2s 329ms/step - loss: 0.1435 - accuracy: 0.9731 - val_loss: 0.5496 - val_accuracy: 0.7440\n",
            "Elapsed time: 0:2:24.0\n",
            "Chunk 2:\n",
            "\t x shape: (690, 340, 340, 3), y shape: (690, 1)\n",
            "\t Split the chunk into:\n",
            "\t\t Number of training examples: 483\n",
            "\t\t Number of test examples: 207\n",
            "\t\t x_train shape: (483, 340, 340, 3)\n",
            "\t\t y_train shape: (483, 1)\n",
            ">>> Traning on chanck 2 starts\n",
            "Epoch 1/32\n",
            "8/8 [==============================] - 4s 509ms/step - loss: 0.3737 - accuracy: 0.8427 - val_loss: 0.6868 - val_accuracy: 0.6618\n",
            "Epoch 2/32\n",
            "8/8 [==============================] - 3s 396ms/step - loss: 0.3550 - accuracy: 0.8592 - val_loss: 0.6967 - val_accuracy: 0.6570\n",
            "Epoch 3/32\n",
            "8/8 [==============================] - 3s 431ms/step - loss: 0.3433 - accuracy: 0.8758 - val_loss: 0.6793 - val_accuracy: 0.6667\n",
            "Epoch 4/32\n",
            "8/8 [==============================] - 3s 383ms/step - loss: 0.3149 - accuracy: 0.8903 - val_loss: 0.4319 - val_accuracy: 0.7633\n",
            "Epoch 5/32\n",
            "8/8 [==============================] - 3s 329ms/step - loss: 0.3121 - accuracy: 0.8758 - val_loss: 0.3559 - val_accuracy: 0.8502\n",
            "Epoch 6/32\n",
            "8/8 [==============================] - 3s 333ms/step - loss: 0.3341 - accuracy: 0.8551 - val_loss: 0.6159 - val_accuracy: 0.6860\n",
            "Epoch 7/32\n",
            "8/8 [==============================] - 3s 411ms/step - loss: 0.2929 - accuracy: 0.8944 - val_loss: 0.4313 - val_accuracy: 0.7585\n",
            "Epoch 8/32\n",
            "8/8 [==============================] - 3s 414ms/step - loss: 0.2674 - accuracy: 0.9151 - val_loss: 0.3399 - val_accuracy: 0.8357\n",
            "Epoch 9/32\n",
            "8/8 [==============================] - 3s 342ms/step - loss: 0.2578 - accuracy: 0.9048 - val_loss: 0.4399 - val_accuracy: 0.7585\n",
            "Epoch 10/32\n",
            "8/8 [==============================] - 3s 432ms/step - loss: 0.2475 - accuracy: 0.9130 - val_loss: 0.4029 - val_accuracy: 0.7923\n",
            "Epoch 11/32\n",
            "8/8 [==============================] - 3s 400ms/step - loss: 0.2378 - accuracy: 0.9296 - val_loss: 0.3920 - val_accuracy: 0.7971\n",
            "Epoch 12/32\n",
            "8/8 [==============================] - 3s 371ms/step - loss: 0.2316 - accuracy: 0.9275 - val_loss: 0.3896 - val_accuracy: 0.7971\n",
            "Epoch 13/32\n",
            "8/8 [==============================] - 3s 381ms/step - loss: 0.2292 - accuracy: 0.9317 - val_loss: 0.3346 - val_accuracy: 0.8261\n",
            "Epoch 14/32\n",
            "8/8 [==============================] - 3s 383ms/step - loss: 0.2199 - accuracy: 0.9379 - val_loss: 0.4067 - val_accuracy: 0.7826\n",
            "Epoch 15/32\n",
            "8/8 [==============================] - 3s 343ms/step - loss: 0.2140 - accuracy: 0.9317 - val_loss: 0.3449 - val_accuracy: 0.8309\n",
            "Epoch 16/32\n",
            "8/8 [==============================] - 3s 412ms/step - loss: 0.2122 - accuracy: 0.9337 - val_loss: 0.3541 - val_accuracy: 0.8309\n",
            "Epoch 17/32\n",
            "8/8 [==============================] - 3s 379ms/step - loss: 0.2048 - accuracy: 0.9441 - val_loss: 0.3683 - val_accuracy: 0.8116\n",
            "Epoch 18/32\n",
            "8/8 [==============================] - 3s 422ms/step - loss: 0.2014 - accuracy: 0.9462 - val_loss: 0.3593 - val_accuracy: 0.8261\n",
            "Epoch 19/32\n",
            "8/8 [==============================] - 3s 337ms/step - loss: 0.1936 - accuracy: 0.9420 - val_loss: 0.2984 - val_accuracy: 0.8696\n",
            "Epoch 20/32\n",
            "8/8 [==============================] - 3s 440ms/step - loss: 0.1897 - accuracy: 0.9420 - val_loss: 0.3522 - val_accuracy: 0.8261\n",
            "Epoch 21/32\n",
            "8/8 [==============================] - 3s 380ms/step - loss: 0.1922 - accuracy: 0.9503 - val_loss: 0.4103 - val_accuracy: 0.7778\n",
            "Epoch 22/32\n",
            "8/8 [==============================] - 3s 382ms/step - loss: 0.1821 - accuracy: 0.9565 - val_loss: 0.2862 - val_accuracy: 0.8744\n",
            "Epoch 23/32\n",
            "8/8 [==============================] - 3s 335ms/step - loss: 0.1783 - accuracy: 0.9503 - val_loss: 0.3151 - val_accuracy: 0.8647\n",
            "Epoch 24/32\n",
            "8/8 [==============================] - 3s 385ms/step - loss: 0.1811 - accuracy: 0.9503 - val_loss: 0.3175 - val_accuracy: 0.8647\n",
            "Epoch 25/32\n",
            "8/8 [==============================] - 3s 347ms/step - loss: 0.1760 - accuracy: 0.9627 - val_loss: 0.2888 - val_accuracy: 0.8937\n",
            "Epoch 26/32\n",
            "8/8 [==============================] - 3s 375ms/step - loss: 0.1719 - accuracy: 0.9607 - val_loss: 0.2995 - val_accuracy: 0.8792\n",
            "Epoch 27/32\n",
            "8/8 [==============================] - 3s 427ms/step - loss: 0.1691 - accuracy: 0.9607 - val_loss: 0.3264 - val_accuracy: 0.8599\n",
            "Epoch 28/32\n",
            "8/8 [==============================] - 3s 352ms/step - loss: 0.1624 - accuracy: 0.9689 - val_loss: 0.2848 - val_accuracy: 0.8841\n",
            "Epoch 29/32\n",
            "8/8 [==============================] - 3s 370ms/step - loss: 0.1607 - accuracy: 0.9607 - val_loss: 0.3128 - val_accuracy: 0.8647\n",
            "Epoch 30/32\n",
            "8/8 [==============================] - 3s 336ms/step - loss: 0.1578 - accuracy: 0.9710 - val_loss: 0.3050 - val_accuracy: 0.8744\n",
            "Epoch 31/32\n",
            "8/8 [==============================] - 3s 332ms/step - loss: 0.1564 - accuracy: 0.9689 - val_loss: 0.2825 - val_accuracy: 0.8986\n",
            "Epoch 32/32\n",
            "8/8 [==============================] - 3s 331ms/step - loss: 0.1536 - accuracy: 0.9689 - val_loss: 0.2793 - val_accuracy: 0.8986\n",
            "Elapsed time: 0:1:34.3\n"
          ]
        }
      ],
      "source": [
        "#@title Traning\n",
        "\n",
        "from sklearn.model_selection import train_test_split\n",
        "from sklearn.metrics import f1_score\n",
        "\n",
        "EPOCHS = 32 #@param {type:\"number\"}\n",
        "#@markdown Try powers of 2 (16, 32, 64, 128, etc.) to find the optimal balance for your specific problem and hardware.\n",
        "BATCH_SIZE = 64 #@param{type:\"number\"}\n",
        "\n",
        "# Nicely formatted time string\n",
        "def hms_string(sec_elapsed):\n",
        "    h = int(sec_elapsed / (60 * 60))\n",
        "    m = int((sec_elapsed % (60 * 60)) / 60)\n",
        "    s = sec_elapsed % 60\n",
        "    return f\"{h}:{m}:{round(s,1)}\"\n",
        "\n",
        "def split_data(X, y, test_size=0.2):\n",
        "    \"\"\"\n",
        "    Splits data into training, development and test sets.\n",
        "    Arguments:\n",
        "        X: A numpy array with shape = (#_examples, image_width, image_height, #_channels)\n",
        "        y: A numpy array with shape = (#_examples, 1)\n",
        "    Returns:\n",
        "        X_train: A numpy array with shape = (#_train_examples, image_width, image_height, #_channels)\n",
        "        y_train: A numpy array with shape = (#_train_examples, 1)\n",
        "        X_test: A numpy array with shape = (#_test_examples, image_width, image_height, #_channels)\n",
        "        y_test: A numpy array with shape = (#_test_examples, 1)\n",
        "    \"\"\"\n",
        "\n",
        "    x_train, x_test, y_train, y_test = train_test_split(X, y, test_size=test_size)\n",
        "\n",
        "    return x_train, y_train, x_test, y_test\n",
        "\n",
        "def compute_f1_score(y_true, prob):\n",
        "    # convert the vector of probabilities to a target vector\n",
        "    y_pred = np.where(prob > 0.5, 1, 0)\n",
        "\n",
        "    score = f1_score(y_true, y_pred)\n",
        "\n",
        "    return score\n",
        "\n",
        "for i, images_list in enumerate(SAMPLES[:3]):\n",
        "  print(f\"Chunk {i}:\")\n",
        "  x, y = load_data(images_list)\n",
        "  print(f\"\\t x shape: {x.shape}, y shape: {y.shape}\")\n",
        "  print(f\"\\t Split the chunk into:\")\n",
        "  x_train, y_train, x_test, y_test = split_data(x,y, TESTING_PERSENTAGE)\n",
        "  print(f\"\\t\\t Number of training examples: {x_train.shape[0]}\")\n",
        "  print(f\"\\t\\t Number of test examples: {x_test.shape[0]}\")\n",
        "  print(f\"\\t\\t x_train shape: {x_train.shape}\")\n",
        "  print(f\"\\t\\t y_train shape: {y_train.shape}\")\n",
        "  print(f\">>> Traning on chanck {i} starts\")\n",
        "  start_time = time.time()\n",
        "  model.fit(x=x_train, y=y_train, batch_size=BATCH_SIZE, epochs=EPOCHS, validation_data=(x_test, y_test), callbacks=[tensorboard, checkpoint])\n",
        "  end_time = time.time()\n",
        "  execution_time = (end_time - start_time)\n",
        "  print(f\"Elapsed time: {hms_string(execution_time)}\")"
      ]
    },
    {
      "cell_type": "code",
      "source": [
        "model.export(\"model.keras\")"
      ],
      "metadata": {
        "colab": {
          "base_uri": "https://localhost:8080/"
        },
        "id": "mhLuQmprq1dt",
        "outputId": "7f4ac36c-2811-4235-b6fc-5aa7f03f9a63"
      },
      "execution_count": null,
      "outputs": [
        {
          "output_type": "stream",
          "name": "stdout",
          "text": [
            "Saved artifact at 'model.keras'. The following endpoints are available:\n",
            "\n",
            "* Endpoint 'serve'\n",
            "  args_0 (POSITIONAL_ONLY): TensorSpec(shape=(None, 340, 340, 3), dtype=tf.float32, name='input_1')\n",
            "Output Type:\n",
            "  TensorSpec(shape=(None, 1), dtype=tf.float32, name=None)\n",
            "Captures:\n",
            "  139853454596352: TensorSpec(shape=(), dtype=tf.resource, name=None)\n",
            "  139853454595120: TensorSpec(shape=(), dtype=tf.resource, name=None)\n",
            "  139853454598816: TensorSpec(shape=(), dtype=tf.resource, name=None)\n",
            "  139853454603040: TensorSpec(shape=(), dtype=tf.resource, name=None)\n",
            "  139853454604272: TensorSpec(shape=(), dtype=tf.resource, name=None)\n",
            "  139853454605504: TensorSpec(shape=(), dtype=tf.resource, name=None)\n",
            "  139853454603568: TensorSpec(shape=(), dtype=tf.resource, name=None)\n",
            "  139853454605680: TensorSpec(shape=(), dtype=tf.resource, name=None)\n"
          ]
        }
      ]
    },
    {
      "cell_type": "code",
      "source": [
        "!tar -cvf model.tar model.keras/"
      ],
      "metadata": {
        "colab": {
          "base_uri": "https://localhost:8080/"
        },
        "id": "nGahWSOlrVp1",
        "outputId": "0af2141d-9f2c-4ab0-8f88-4849afdb9e52"
      },
      "execution_count": null,
      "outputs": [
        {
          "output_type": "stream",
          "name": "stdout",
          "text": [
            "model.keras/\n",
            "model.keras/fingerprint.pb\n",
            "model.keras/saved_model.pb\n",
            "model.keras/assets/\n",
            "model.keras/variables/\n",
            "model.keras/variables/variables.index\n",
            "model.keras/variables/variables.data-00000-of-00001\n"
          ]
        }
      ]
    },
    {
      "cell_type": "code",
      "source": [
        "!xz model.tar"
      ],
      "metadata": {
        "id": "GD1cwJVcr0gq"
      },
      "execution_count": null,
      "outputs": []
    },
    {
      "cell_type": "code",
      "execution_count": null,
      "metadata": {
        "id": "ZYU_rj2iUOjD"
      },
      "outputs": [],
      "source": [
        "history = model.history.history"
      ]
    },
    {
      "cell_type": "markdown",
      "metadata": {
        "id": "ntq8L7U-UOjE"
      },
      "source": [
        "## Plot Loss & Accuracy"
      ]
    },
    {
      "cell_type": "code",
      "execution_count": null,
      "metadata": {
        "id": "ebAV78QAUOjE"
      },
      "outputs": [],
      "source": [
        "def plot_metrics(history):\n",
        "\n",
        "    train_loss = history['loss']\n",
        "    val_loss = history['val_loss']\n",
        "    train_acc = history['accuracy']\n",
        "    val_acc = history['val_accuracy']\n",
        "\n",
        "    # Loss\n",
        "    plt.figure()\n",
        "    plt.plot(train_loss, label='Training Loss')\n",
        "    plt.plot(val_loss, label='Validation Loss')\n",
        "    plt.title('Loss')\n",
        "    plt.legend()\n",
        "    plt.show()\n",
        "\n",
        "    # Accuracy\n",
        "    plt.figure()\n",
        "    plt.plot(train_acc, label='Training Accuracy')\n",
        "    plt.plot(val_acc, label='Validation Accuracy')\n",
        "    plt.title('Accuracy')\n",
        "    plt.legend()\n",
        "    plt.show()"
      ]
    },
    {
      "cell_type": "markdown",
      "metadata": {
        "id": "vNvD-K04UOjE"
      },
      "source": [
        "**Note:** Since we trained the model using more than model.fit() function call, this made the history only contain the metric values of the epochs for the last call (which was for 5 epochs), so to plot the metric values across the whole process of trianing the model from the beginning, I had to grab the rest of the values."
      ]
    },
    {
      "cell_type": "code",
      "execution_count": null,
      "metadata": {
        "colab": {
          "base_uri": "https://localhost:8080/",
          "height": 887
        },
        "id": "aSRkK6lJUOjF",
        "outputId": "f921d29a-948c-47bd-ff29-3d2681572b82"
      },
      "outputs": [
        {
          "output_type": "display_data",
          "data": {
            "text/plain": [
              "<Figure size 640x480 with 1 Axes>"
            ],
            "image/png": "[encoded data removed]"
          },
          "metadata": {}
        },
        {
          "output_type": "display_data",
          "data": {
            "text/plain": [
              "<Figure size 640x480 with 1 Axes>"
            ],
            "image/png": "[encoded data removed]"
          },
          "metadata": {}
        }
      ],
      "source": [
        "#display(history)\n",
        "plot_metrics(history)"
      ]
    },
    {
      "cell_type": "markdown",
      "metadata": {
        "id": "g2b7pfmPUOjF"
      },
      "source": [
        "# Results"
      ]
    },
    {
      "cell_type": "markdown",
      "metadata": {
        "id": "C90aBSydUOjF"
      },
      "source": [
        "Let's experiment with the best model (the one with the best validation accuracy):"
      ]
    },
    {
      "cell_type": "code",
      "source": [
        "#@title Evaluaton\n",
        "#@markdown The avilable datasets are:\n",
        "#@markdown * [k1](https://www.kaggle.com/datasets/navoneel/brain-mri-images-for-brain-tumor-detection) - 253 samples.\n",
        "EVALUATION_DATASET = \"k1\" #@param [\"k1\", \"br35h\"] {allow-input: true}\n",
        "\n",
        "SAMPLES = []\n",
        "\n",
        "match EVALUATION_DATASET:\n",
        "  case \"k1\":\n",
        "    DIR = \"eval_data\"\n",
        "    download_kaggle_ds(DIR, \"navoneel/brain-mri-images-for-brain-tumor-detection\")\n",
        "    rmtree(f\"{DIR}/brain_tumor_dataset\")\n",
        "    SAMPLES.extend([(path, 0) for path in copy_samples(f\"{DIR}/no\")])\n",
        "    SAMPLES.extend([(path, 1) for path in copy_samples(f\"{DIR}/yes\")])\n",
        "\n",
        "  case \"br35h\":\n",
        "    n, y = br35h()\n",
        "    SAMPLES.extend([(path, 0) for path in n])\n",
        "    SAMPLES.extend([(path, 1) for path in y])\n",
        "\n",
        "  case _:\n",
        "    raise ValueError(\"The choosen database dosn't exist\")\n",
        "\n",
        "print(f\"Number of evaluation samples {len(SAMPLES)}\")\n",
        "\n",
        "SAMPLES = chunk_list(SAMPLES, 1000)\n",
        "\n",
        "random.shuffle(SAMPLES)"
      ],
      "metadata": {
        "colab": {
          "base_uri": "https://localhost:8080/"
        },
        "id": "D4OhgeWm6bhv",
        "outputId": "27c779dd-bb64-4474-ce57-2d79e3b608e1"
      },
      "execution_count": null,
      "outputs": [
        {
          "output_type": "stream",
          "name": "stdout",
          "text": [
            "brain-mri-images-for-brain-tumor-detection.zip\n",
            "Number of evaluation samples 247\n"
          ]
        }
      ]
    },
    {
      "cell_type": "markdown",
      "metadata": {
        "id": "j9R1GF4sUOjF"
      },
      "source": [
        "### Load the best model"
      ]
    },
    {
      "cell_type": "code",
      "execution_count": null,
      "metadata": {
        "id": "EuTn5DHPUOjG"
      },
      "outputs": [],
      "source": [
        "best_model = load_model(filepath=f\"models/cnn-parameters-improvement-{EPOCHS}.model\")"
      ]
    },
    {
      "cell_type": "code",
      "execution_count": null,
      "metadata": {
        "colab": {
          "base_uri": "https://localhost:8080/"
        },
        "id": "1o61vBwoUOjG",
        "outputId": "7ab790b7-d3aa-45c0-aaa3-7cdc08c595a6"
      },
      "outputs": [
        {
          "output_type": "execute_result",
          "data": {
            "text/plain": [
              "['loss', 'accuracy']"
            ]
          },
          "metadata": {},
          "execution_count": 13
        }
      ],
      "source": [
        "best_model.metrics_names"
      ]
    },
    {
      "cell_type": "markdown",
      "metadata": {
        "id": "qFAW97luUOjH"
      },
      "source": [
        "Evaluate the best model on the testing data:"
      ]
    },
    {
      "cell_type": "code",
      "execution_count": null,
      "metadata": {
        "scrolled": true,
        "colab": {
          "base_uri": "https://localhost:8080/"
        },
        "id": "A7RqtJN3UOjH",
        "outputId": "947e783a-ef78-4dc5-a645-e83c8fda11fd"
      },
      "outputs": [
        {
          "output_type": "stream",
          "name": "stdout",
          "text": [
            "x_eval shape: (247, 340, 340, 3)\n",
            "y_eval shape: (247, 1)\n",
            "8/8 [==============================] - 1s 94ms/step - loss: 0.2041 - accuracy: 0.9231\n",
            "Evaluation Loss = 0.20405875146389008\n",
            "Evaluation Accuracy = 0.9230769276618958\n"
          ]
        }
      ],
      "source": [
        "total_loss = 0.0\n",
        "total_acc = 0.0\n",
        "for samples in SAMPLES:\n",
        "  x_eval, y_eval = load_data(samples)\n",
        "  print(f\"x_eval shape: {x_eval.shape}\")\n",
        "  print(f\"y_eval shape: {y_eval.shape}\")\n",
        "  loss, acc = best_model.evaluate(x=x_eval, y=y_eval)\n",
        "  total_loss += loss\n",
        "  total_acc += acc\n",
        "\n",
        "print (f\"Evaluation Loss = {total_loss}\")\n",
        "print (f\"Evaluation Accuracy = {total_acc}\")"
      ]
    },
    {
      "cell_type": "markdown",
      "metadata": {
        "id": "EFUtjVJfUOjH"
      },
      "source": [
        "### F1 score for the best model on the testing data:"
      ]
    },
    {
      "cell_type": "code",
      "execution_count": null,
      "metadata": {
        "colab": {
          "base_uri": "https://localhost:8080/"
        },
        "id": "o2fGb4bEUOjI",
        "outputId": "b1c8badc-6dbb-4b2c-c555-93bd5ee9535e"
      },
      "outputs": [
        {
          "output_type": "stream",
          "name": "stdout",
          "text": [
            "8/8 [==============================] - 0s 44ms/step\n"
          ]
        }
      ],
      "source": [
        "y_eval_prop = best_model.predict(x_eval)"
      ]
    },
    {
      "cell_type": "code",
      "execution_count": null,
      "metadata": {
        "colab": {
          "base_uri": "https://localhost:8080/"
        },
        "id": "NM7e4qX-UOjI",
        "outputId": "a43cf815-1eb5-4ba9-e00e-374580d0062b"
      },
      "outputs": [
        {
          "output_type": "stream",
          "name": "stdout",
          "text": [
            "F1 score: 0.9396825396825398\n"
          ]
        }
      ],
      "source": [
        "f1score = compute_f1_score(y_eval, y_eval_prop)\n",
        "print(f\"F1 score: {f1score}\")"
      ]
    },
    {
      "cell_type": "markdown",
      "metadata": {
        "id": "RPiKJRIdUOjJ"
      },
      "source": [
        "### Results Interpretation"
      ]
    },
    {
      "cell_type": "markdown",
      "metadata": {
        "id": "wEzVvX7pUOjJ"
      },
      "source": [
        "Let's remember the percentage of positive and negative examples:"
      ]
    },
    {
      "cell_type": "code",
      "execution_count": null,
      "metadata": {
        "id": "LGir7mGXUOjJ"
      },
      "outputs": [],
      "source": [
        "def data_percentage(y):\n",
        "\n",
        "    m=len(y)\n",
        "    n_positive = np.sum(y)\n",
        "    n_negative = m - n_positive\n",
        "\n",
        "    pos_prec = (n_positive* 100.0)/ m\n",
        "    neg_prec = (n_negative* 100.0)/ m\n",
        "\n",
        "    print(f\"Number of examples: {m}\")\n",
        "    print(f\"Percentage of positive examples: {pos_prec}%, number of pos examples: {n_positive}\")\n",
        "    print(f\"Percentage of negative examples: {neg_prec}%, number of neg examples: {n_negative}\")\n",
        "\n"
      ]
    },
    {
      "cell_type": "code",
      "execution_count": null,
      "metadata": {
        "colab": {
          "base_uri": "https://localhost:8080/"
        },
        "id": "FtU62eOGUOjJ",
        "outputId": "0b9f1e5c-dd49-473e-f43f-a9e6f93e8afb"
      },
      "outputs": [
        {
          "output_type": "stream",
          "name": "stdout",
          "text": [
            "Number of examples: 465\n",
            "Percentage of positive examples: 48.81720430107527%, number of pos examples: 227\n",
            "Percentage of negative examples: 51.18279569892473%, number of neg examples: 238\n"
          ]
        }
      ],
      "source": [
        "# the whole data\n",
        "data_percentage(y)"
      ]
    },
    {
      "cell_type": "code",
      "execution_count": null,
      "metadata": {
        "colab": {
          "base_uri": "https://localhost:8080/"
        },
        "id": "rQzWPj95UOjJ",
        "outputId": "d796f732-2d83-4db0-fa51-2d08db4f6b40"
      },
      "outputs": [
        {
          "output_type": "stream",
          "name": "stdout",
          "text": [
            "Training Data:\n",
            "Number of examples: 420\n",
            "Percentage of positive examples: 51.42857142857143%, number of pos examples: 216\n",
            "Percentage of negative examples: 48.57142857142857%, number of neg examples: 204\n",
            "Validation Data:\n",
            "Number of examples: 90\n",
            "Percentage of positive examples: 50.0%, number of pos examples: 45\n",
            "Percentage of negative examples: 50.0%, number of neg examples: 45\n",
            "Testing Data:\n",
            "Number of examples: 90\n",
            "Percentage of positive examples: 43.333333333333336%, number of pos examples: 39\n",
            "Percentage of negative examples: 56.666666666666664%, number of neg examples: 51\n"
          ]
        }
      ],
      "source": [
        "print(\"Training Data:\")\n",
        "data_percentage(y_train)\n",
        "print(\"Validation Data:\")\n",
        "data_percentage(y_val)\n",
        "print(\"Testing Data:\")\n",
        "data_percentage(y_test)"
      ]
    },
    {
      "cell_type": "markdown",
      "metadata": {
        "id": "X4_bDuUpUOjK"
      },
      "source": [
        "As expectred, the percentage of positive examples are around 50%."
      ]
    }
  ],
  "metadata": {
    "kernelspec": {
      "display_name": "Python 3",
      "name": "python3"
    },
    "language_info": {
      "codemirror_mode": {
        "name": "ipython",
        "version": 3
      },
      "file_extension": ".py",
      "mimetype": "text/x-python",
      "name": "python",
      "nbconvert_exporter": "python",
      "pygments_lexer": "ipython3",
      "version": "3.6.7"
    },
    "colab": {
      "provenance": [],
      "gpuType": "T4"
    },
    "accelerator": "GPU"
  },
  "nbformat": 4,
  "nbformat_minor": 0
}